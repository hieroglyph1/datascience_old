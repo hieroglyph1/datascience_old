{
 "cells": [
  {
   "cell_type": "code",
   "execution_count": 2,
   "metadata": {
    "collapsed": true
   },
   "outputs": [],
   "source": [
    "import py_stringmatching.tokenizer as tk\n",
    "import string\n",
    "import nltk\n",
    "import pickle\n",
    "from nltk.stem.porter import PorterStemmer\n",
    "import sys\n",
    "\n",
    "#-----------------------------------------------------------------------------#\n",
    "import warnings\n",
    "warnings.filterwarnings('ignore')\n",
    "#-----------------------------------------------------------------------------#\n",
    "\n",
    "import string\n",
    "\n",
    "import pandas as pd\n",
    "import pandas.io.sql as psql\n",
    "import psycopg2 as pg\n",
    "from datetime import datetime\n",
    "\n",
    "# First time do: pip install pymongo\n",
    "from pymongo import MongoClient\n",
    "from sqlalchemy import create_engine\n",
    "\n",
    "def start_up():\n",
    "    # Connect to database\n",
    "    conn = pg.connect(\n",
    "        database=\"dse203\", \n",
    "        user=\"postgres\", \n",
    "        password=\"newPass\"\n",
    "    )\n",
    "    \n",
    "    return conn"
   ]
  },
  {
   "cell_type": "code",
   "execution_count": 10,
   "metadata": {},
   "outputs": [
    {
     "data": {
      "text/plain": [
       "topic\n",
       "00    0.400000\n",
       "04    0.666667\n",
       "07    0.000000\n",
       "09    0.500000\n",
       "12    0.000000\n",
       "13    0.833333\n",
       "15    0.714286\n",
       "21    0.000000\n",
       "Name: newsworthiness, dtype: float64"
      ]
     },
     "execution_count": 10,
     "metadata": {},
     "output_type": "execute_result"
    }
   ],
   "source": [
    "conn = start_up()\n",
    "percent_query = \"\"\"\n",
    "    SELECT newsworthiness,topic FROM tweet_text_scores WHERE uniqueness > .8 group by partition,newsworthiness,topic\"\"\"\n",
    "    \n",
    "percentFrame = pd.read_sql(percent_query, conn)\n",
    "\n",
    "percentFrame.groupby(\"topic\")['newsworthiness'].apply((lambda c: (c>.3).sum()/len(c)))"
   ]
  },
  {
   "cell_type": "code",
   "execution_count": null,
   "metadata": {
    "collapsed": true
   },
   "outputs": [],
   "source": []
  }
 ],
 "metadata": {
  "kernelspec": {
   "display_name": "Python [default]",
   "language": "python",
   "name": "python3"
  },
  "language_info": {
   "codemirror_mode": {
    "name": "ipython",
    "version": 3
   },
   "file_extension": ".py",
   "mimetype": "text/x-python",
   "name": "python",
   "nbconvert_exporter": "python",
   "pygments_lexer": "ipython3",
   "version": "3.6.1"
  }
 },
 "nbformat": 4,
 "nbformat_minor": 2
}
