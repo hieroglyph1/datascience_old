{
 "cells": [
  {
   "cell_type": "code",
   "execution_count": 114,
   "metadata": {
    "collapsed": true
   },
   "outputs": [],
   "source": [
    "import py_stringmatching.tokenizer as tk\n",
    "import string\n",
    "import nltk\n",
    "import pickle\n",
    "from nltk.stem.porter import PorterStemmer"
   ]
  },
  {
   "cell_type": "code",
   "execution_count": 1,
   "metadata": {
    "collapsed": true
   },
   "outputs": [],
   "source": [
    "# First time do pip install pymongo\n",
    "from pymongo import MongoClient\n",
    "client = MongoClient()"
   ]
  },
  {
   "cell_type": "code",
   "execution_count": 3,
   "metadata": {
    "collapsed": true
   },
   "outputs": [],
   "source": [
    "# Database name on Mongo: DSE203-Project, collection name:Tweets\n",
    "db = client['DSE203-Project']\n",
    "collection = db['Tweets']"
   ]
  },
  {
   "cell_type": "code",
   "execution_count": 97,
   "metadata": {},
   "outputs": [],
   "source": [
    "test_tweets_query = collection.find({'entities.hashtags.text':'RightToTry'})"
   ]
  },
  {
   "cell_type": "code",
   "execution_count": 98,
   "metadata": {},
   "outputs": [],
   "source": [
    "test_tweets = []\n",
    "for tweet in test_tweets_query:\n",
    "    test_tweets.append(tweet)"
   ]
  },
  {
   "cell_type": "code",
   "execution_count": 99,
   "metadata": {},
   "outputs": [],
   "source": [
    "test_tweet_texts = []\n",
    "for tweet in test_tweets:\n",
    "    test_tweet_texts.append(tweet['text'])"
   ]
  },
  {
   "cell_type": "code",
   "execution_count": 11,
   "metadata": {},
   "outputs": [
    {
     "name": "stdout",
     "output_type": "stream",
     "text": [
      "[nltk_data] Downloading package wordnet to\n",
      "[nltk_data]     C:\\Users\\Daniel\\AppData\\Roaming\\nltk_data...\n",
      "[nltk_data]   Package wordnet is already up-to-date!\n"
     ]
    },
    {
     "data": {
      "text/plain": [
       "True"
      ]
     },
     "execution_count": 11,
     "metadata": {},
     "output_type": "execute_result"
    }
   ],
   "source": [
    "nltk.download('wordnet')"
   ]
  },
  {
   "cell_type": "code",
   "execution_count": 12,
   "metadata": {},
   "outputs": [
    {
     "name": "stdout",
     "output_type": "stream",
     "text": [
      "[nltk_data] Downloading package stopwords to\n",
      "[nltk_data]     C:\\Users\\Daniel\\AppData\\Roaming\\nltk_data...\n",
      "[nltk_data]   Package stopwords is already up-to-date!\n"
     ]
    }
   ],
   "source": [
    "from nltk.corpus import stopwords\n",
    "nltk.download('stopwords')\n",
    "stop_words = set(stopwords.words('english'))"
   ]
  },
  {
   "cell_type": "code",
   "execution_count": 87,
   "metadata": {},
   "outputs": [
    {
     "data": {
      "text/plain": [
       "['Thank you @POTUS for pushing #RightToTry  https://t.co/Z31nFCi9Wp',\n",
       " 'RT @SenRonJohnson: Thank you @POTUS for pushing #RightToTry  https://t.co/Z31nFCi9Wp',\n",
       " 'RT @SenRonJohnson: Thank you @POTUS for pushing #RightToTry  https://t.co/Z31nFCi9Wp',\n",
       " 'RT @SenRonJohnson: Thank you @POTUS for pushing #RightToTry  https://t.co/Z31nFCi9Wp',\n",
       " 'RT @SenRonJohnson: Thank you @POTUS for pushing #RightToTry  https://t.co/Z31nFCi9Wp',\n",
       " 'RT @FreedomWorks: \"It\\'s time to give these wonderful, incredible Americans the #RightToTry.\" -@realDonaldTrump #SOTU',\n",
       " \".@RepKinzinger, answer @realDonaldTrump's call! Support terminally ill Americans' #RightToTry. Support the Right to… https://t.co/5jD0KKtOTF\",\n",
       " \".@RepLarryBucshon, answer @realDonaldTrump's call! Support terminally ill Americans' #RightToTry. Support the Right… https://t.co/eVwsCDhdk9\",\n",
       " \".@SteveScalise, answer @realDonaldTrump's call! Support terminally ill Americans' #RightToTry. Support the Right to… https://t.co/xptCUzi3qA\",\n",
       " \".@RepGuthrie, answer @realDonaldTrump's call! Support terminally ill Americans' #RightToTry. Support the Right to T… https://t.co/vJi84A3oB9\",\n",
       " '@CongHuelskamp @realDonaldTrump exercising my #RightToTry putting 12 gallons of marijuana juice up my ass hole',\n",
       " 'RT @SenRonJohnson: Thank you @POTUS for pushing #RightToTry  https://t.co/Z31nFCi9Wp',\n",
       " 'RT @SenRonJohnson: Thank you @POTUS for pushing #RightToTry  https://t.co/Z31nFCi9Wp',\n",
       " 'RT @benvoelkel: That feeling when @realDonaldTrump calls out #RightToTry cc: @SenRonJohnson https://t.co/SUmjUDIHqO',\n",
       " \".@reppeteolson, answer @realDonaldTrump's call! Support terminally ill Americans' #RightToTry. Support the Right to… https://t.co/pJBRztOsu3\",\n",
       " \".@michaelcburgess, answer @realDonaldTrump's call! Support terminally ill Americans' #RightToTry. Support the Right… https://t.co/0cSlZGYEqU\",\n",
       " \".@repBuddyCarter, answer @realDonaldTrump's call! Support terminally ill Americans' #RightToTry. Support the Right… https://t.co/gUsIpxUOh3\"]"
      ]
     },
     "execution_count": 87,
     "metadata": {},
     "output_type": "execute_result"
    }
   ],
   "source": [
    "test_tweet_texts"
   ]
  },
  {
   "cell_type": "code",
   "execution_count": 95,
   "metadata": {
    "collapsed": true
   },
   "outputs": [],
   "source": [
    "def stemmingLambda(x):\n",
    "    retVal = \"\"\n",
    "    x = ws_tok.tokenize(x)\n",
    "    for w in x:\n",
    "        if w not in stop_words:\n",
    "            retVal += porter_stemmer.stem(w)\n",
    "            retVal += \" \"\n",
    "    return retVal"
   ]
  },
  {
   "cell_type": "code",
   "execution_count": 100,
   "metadata": {},
   "outputs": [],
   "source": [
    "from nltk.stem import WordNetLemmatizer\n",
    "\n",
    "porter_stemmer = PorterStemmer()\n",
    "table = str.maketrans({key: None for key in string.punctuation})\n",
    "\n",
    "ws_tok = tk.whitespace_tokenizer.WhitespaceTokenizer()\n",
    "test_tweet_texts = list(map(lambda x: stemmingLambda(x.translate(table).lower()), test_tweet_texts)) "
   ]
  },
  {
   "cell_type": "code",
   "execution_count": 101,
   "metadata": {},
   "outputs": [
    {
     "data": {
      "text/plain": [
       "['thank potu push righttotri httpstcoz31nfci9wp ',\n",
       " 'rt senronjohnson thank potu push righttotri httpstcoz31nfci9wp ',\n",
       " 'rt senronjohnson thank potu push righttotri httpstcoz31nfci9wp ',\n",
       " 'rt senronjohnson thank potu push righttotri httpstcoz31nfci9wp ',\n",
       " 'rt senronjohnson thank potu push righttotri httpstcoz31nfci9wp ',\n",
       " 'rt freedomwork time give wonder incred american righttotri realdonaldtrump sotu ',\n",
       " 'repkinzing answer realdonaldtrump call support termin ill american righttotri support right to… httpstco5jd0kktotf ',\n",
       " 'replarrybucshon answer realdonaldtrump call support termin ill american righttotri support right… httpstcoevwscdhdk9 ',\n",
       " 'stevescalis answer realdonaldtrump call support termin ill american righttotri support right to… httpstcoxptcuzi3qa ',\n",
       " 'repguthri answer realdonaldtrump call support termin ill american righttotri support right t… httpstcovji84a3ob9 ',\n",
       " 'conghuelskamp realdonaldtrump exercis righttotri put 12 gallon marijuana juic ass hole ',\n",
       " 'rt senronjohnson thank potu push righttotri httpstcoz31nfci9wp ',\n",
       " 'rt senronjohnson thank potu push righttotri httpstcoz31nfci9wp ',\n",
       " 'rt benvoelkel feel realdonaldtrump call righttotri cc senronjohnson httpstcosumjudihqo ',\n",
       " 'reppeteolson answer realdonaldtrump call support termin ill american righttotri support right to… httpstcopjbrztosu3 ',\n",
       " 'michaelcburgess answer realdonaldtrump call support termin ill american righttotri support right… httpstco0cslzgyequ ',\n",
       " 'repbuddycart answer realdonaldtrump call support termin ill american righttotri support right… httpstcogusipxuoh3 ']"
      ]
     },
     "execution_count": 101,
     "metadata": {},
     "output_type": "execute_result"
    }
   ],
   "source": [
    "test_tweet_texts"
   ]
  },
  {
   "cell_type": "code",
   "execution_count": 123,
   "metadata": {},
   "outputs": [],
   "source": [
    "# Used first time through\n",
    "\"\"\"\n",
    "from nltk.corpus import reuters\n",
    "reuters_lexicon_set = set()\n",
    "for file in reuters.fileids():\n",
    "    curr_doc = reuters.raw(file)\n",
    "    curr_doc = curr_doc.translate(table).lower()\n",
    "    curr_doc = stemmingLambda(curr_doc)\n",
    "    tokens = curr_doc.strip().split(' ')\n",
    "    for token in tokens:\n",
    "        reuters_lexicon_set.add(token)\n",
    "        \n",
    "#Pickling processed lexicon\n",
    "with open(\"reuters_processed_lexicon.pickle\", \"wb\") as file:   \n",
    "    pickle.dump(reuters_lexicon_set, file)\n",
    "\"\"\"\n",
    "# Unpickling\n",
    "with open(\"reuters_processed_lexicon.pickle\", \"rb\") as fp:   \n",
    "    reuters_lexicon_set = pickle.load(fp)"
   ]
  },
  {
   "cell_type": "code",
   "execution_count": 124,
   "metadata": {},
   "outputs": [
    {
     "data": {
      "text/plain": [
       "42499"
      ]
     },
     "execution_count": 124,
     "metadata": {},
     "output_type": "execute_result"
    }
   ],
   "source": [
    "len(reuters_lexicon_set)"
   ]
  },
  {
   "cell_type": "code",
   "execution_count": 106,
   "metadata": {},
   "outputs": [],
   "source": [
    "test_tweet_texts = list(map(lambda x: set(x.strip().split(' ')),test_tweet_texts))"
   ]
  },
  {
   "cell_type": "code",
   "execution_count": 107,
   "metadata": {},
   "outputs": [
    {
     "data": {
      "text/plain": [
       "[{'httpstcoz31nfci9wp', 'potu', 'push', 'righttotri', 'thank'},\n",
       " {'httpstcoz31nfci9wp',\n",
       "  'potu',\n",
       "  'push',\n",
       "  'righttotri',\n",
       "  'rt',\n",
       "  'senronjohnson',\n",
       "  'thank'},\n",
       " {'httpstcoz31nfci9wp',\n",
       "  'potu',\n",
       "  'push',\n",
       "  'righttotri',\n",
       "  'rt',\n",
       "  'senronjohnson',\n",
       "  'thank'},\n",
       " {'httpstcoz31nfci9wp',\n",
       "  'potu',\n",
       "  'push',\n",
       "  'righttotri',\n",
       "  'rt',\n",
       "  'senronjohnson',\n",
       "  'thank'},\n",
       " {'httpstcoz31nfci9wp',\n",
       "  'potu',\n",
       "  'push',\n",
       "  'righttotri',\n",
       "  'rt',\n",
       "  'senronjohnson',\n",
       "  'thank'},\n",
       " {'american',\n",
       "  'freedomwork',\n",
       "  'give',\n",
       "  'incred',\n",
       "  'realdonaldtrump',\n",
       "  'righttotri',\n",
       "  'rt',\n",
       "  'sotu',\n",
       "  'time',\n",
       "  'wonder'},\n",
       " {'american',\n",
       "  'answer',\n",
       "  'call',\n",
       "  'httpstco5jd0kktotf',\n",
       "  'ill',\n",
       "  'realdonaldtrump',\n",
       "  'repkinzing',\n",
       "  'right',\n",
       "  'righttotri',\n",
       "  'support',\n",
       "  'termin',\n",
       "  'to…'},\n",
       " {'american',\n",
       "  'answer',\n",
       "  'call',\n",
       "  'httpstcoevwscdhdk9',\n",
       "  'ill',\n",
       "  'realdonaldtrump',\n",
       "  'replarrybucshon',\n",
       "  'righttotri',\n",
       "  'right…',\n",
       "  'support',\n",
       "  'termin'},\n",
       " {'american',\n",
       "  'answer',\n",
       "  'call',\n",
       "  'httpstcoxptcuzi3qa',\n",
       "  'ill',\n",
       "  'realdonaldtrump',\n",
       "  'right',\n",
       "  'righttotri',\n",
       "  'stevescalis',\n",
       "  'support',\n",
       "  'termin',\n",
       "  'to…'},\n",
       " {'american',\n",
       "  'answer',\n",
       "  'call',\n",
       "  'httpstcovji84a3ob9',\n",
       "  'ill',\n",
       "  'realdonaldtrump',\n",
       "  'repguthri',\n",
       "  'right',\n",
       "  'righttotri',\n",
       "  'support',\n",
       "  'termin',\n",
       "  't…'},\n",
       " {'12',\n",
       "  'ass',\n",
       "  'conghuelskamp',\n",
       "  'exercis',\n",
       "  'gallon',\n",
       "  'hole',\n",
       "  'juic',\n",
       "  'marijuana',\n",
       "  'put',\n",
       "  'realdonaldtrump',\n",
       "  'righttotri'},\n",
       " {'httpstcoz31nfci9wp',\n",
       "  'potu',\n",
       "  'push',\n",
       "  'righttotri',\n",
       "  'rt',\n",
       "  'senronjohnson',\n",
       "  'thank'},\n",
       " {'httpstcoz31nfci9wp',\n",
       "  'potu',\n",
       "  'push',\n",
       "  'righttotri',\n",
       "  'rt',\n",
       "  'senronjohnson',\n",
       "  'thank'},\n",
       " {'benvoelkel',\n",
       "  'call',\n",
       "  'cc',\n",
       "  'feel',\n",
       "  'httpstcosumjudihqo',\n",
       "  'realdonaldtrump',\n",
       "  'righttotri',\n",
       "  'rt',\n",
       "  'senronjohnson'},\n",
       " {'american',\n",
       "  'answer',\n",
       "  'call',\n",
       "  'httpstcopjbrztosu3',\n",
       "  'ill',\n",
       "  'realdonaldtrump',\n",
       "  'reppeteolson',\n",
       "  'right',\n",
       "  'righttotri',\n",
       "  'support',\n",
       "  'termin',\n",
       "  'to…'},\n",
       " {'american',\n",
       "  'answer',\n",
       "  'call',\n",
       "  'httpstco0cslzgyequ',\n",
       "  'ill',\n",
       "  'michaelcburgess',\n",
       "  'realdonaldtrump',\n",
       "  'righttotri',\n",
       "  'right…',\n",
       "  'support',\n",
       "  'termin'},\n",
       " {'american',\n",
       "  'answer',\n",
       "  'call',\n",
       "  'httpstcogusipxuoh3',\n",
       "  'ill',\n",
       "  'realdonaldtrump',\n",
       "  'repbuddycart',\n",
       "  'righttotri',\n",
       "  'right…',\n",
       "  'support',\n",
       "  'termin'}]"
      ]
     },
     "execution_count": 107,
     "metadata": {},
     "output_type": "execute_result"
    }
   ],
   "source": [
    "test_tweet_texts"
   ]
  },
  {
   "cell_type": "code",
   "execution_count": 108,
   "metadata": {},
   "outputs": [],
   "source": [
    "intersections = []\n",
    "for tweet_text in test_tweet_texts:\n",
    "    intersections.append(tweet_text.intersection(reuters_lexicon_set))"
   ]
  },
  {
   "cell_type": "code",
   "execution_count": 110,
   "metadata": {},
   "outputs": [
    {
     "name": "stdout",
     "output_type": "stream",
     "text": [
      "{'thank', 'push'}\n",
      "2\n",
      "{'thank', 'push'}\n",
      "2\n",
      "{'thank', 'push'}\n",
      "2\n",
      "{'thank', 'push'}\n",
      "2\n",
      "{'thank', 'push'}\n",
      "2\n",
      "{'time', 'give', 'incred', 'american', 'wonder'}\n",
      "5\n",
      "{'answer', 'call', 'ill', 'support', 'american', 'right', 'termin'}\n",
      "7\n",
      "{'answer', 'call', 'ill', 'support', 'american', 'termin'}\n",
      "6\n",
      "{'answer', 'call', 'ill', 'support', 'american', 'right', 'termin'}\n",
      "7\n",
      "{'answer', 'call', 'ill', 'support', 'american', 'right', 'termin'}\n",
      "7\n",
      "{'12', 'gallon', 'put', 'hole', 'juic', 'exercis'}\n",
      "6\n",
      "{'thank', 'push'}\n",
      "2\n",
      "{'thank', 'push'}\n",
      "2\n",
      "{'call', 'feel'}\n",
      "2\n",
      "{'answer', 'call', 'ill', 'support', 'american', 'right', 'termin'}\n",
      "7\n",
      "{'answer', 'call', 'ill', 'support', 'american', 'termin'}\n",
      "6\n",
      "{'answer', 'call', 'ill', 'support', 'american', 'termin'}\n",
      "6\n"
     ]
    }
   ],
   "source": [
    "for ele in intersections:\n",
    "    print(ele)\n",
    "    print(len(ele))"
   ]
  }
 ],
 "metadata": {
  "kernelspec": {
   "display_name": "Python [default]",
   "language": "python",
   "name": "python3"
  },
  "language_info": {
   "codemirror_mode": {
    "name": "ipython",
    "version": 3
   },
   "file_extension": ".py",
   "mimetype": "text/x-python",
   "name": "python",
   "nbconvert_exporter": "python",
   "pygments_lexer": "ipython3",
   "version": "3.6.1"
  }
 },
 "nbformat": 4,
 "nbformat_minor": 2
}
